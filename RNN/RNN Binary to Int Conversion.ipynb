{
 "cells": [
  {
   "cell_type": "markdown",
   "metadata": {},
   "source": [
    "### Palla Revanth\n",
    "\n",
    "### 20MAI0046\n",
    "\n",
    "### Building Basic RNN model for Binary to Decimal Conversion\n",
    "\n",
    "### GitHub: https://github.com/revanthpalla/DeepLearning.git"
   ]
  },
  {
   "cell_type": "code",
   "execution_count": 20,
   "metadata": {},
   "outputs": [],
   "source": [
    "import numpy as np\n",
    "np.random.seed(1)\n",
    "\n",
    "def bin2int(bin_list):\n",
    "    #bin_list = [0, 0, 0, 1]\n",
    "    int_val = \"\"\n",
    "    for k in bin_list:\n",
    "        int_val += str(int(k))\n",
    "    #int_val = 11011011    \n",
    "    return int(int_val, 2)\n",
    "\n",
    "\n",
    "def dataset(num):\n",
    "    # num - no of samples\n",
    "    bin_len = 8\n",
    "    X = np.zeros((num, bin_len))\n",
    "    Y = np.zeros((num))\n",
    "\n",
    "    for i in range(num):\n",
    "        X[i] = np.around(np.random.rand(bin_len)).astype(int)\n",
    "        Y[i] = bin2int(X[i])\n",
    "    return X, Y\n",
    "\n",
    "no_of_smaples = 20\n",
    "trainX, trainY = dataset(no_of_smaples)\n",
    "testX, testY = dataset(5)\n",
    "\n",
    "#print(trainX)\n",
    "#print(trainY)"
   ]
  },
  {
   "cell_type": "markdown",
   "metadata": {},
   "source": [
    "## Define RNN model"
   ]
  },
  {
   "cell_type": "code",
   "execution_count": 18,
   "metadata": {},
   "outputs": [],
   "source": [
    "class RNN:\n",
    "    def __init__(self):\n",
    "        self.W = [1, 1]\n",
    "        self.W_delta = [0.001, 0.001]\n",
    "        self.W_sign = [0, 0]\n",
    "\n",
    "        self.eta_p = 1.2\n",
    "        self.eta_n = 0.5\n",
    "\n",
    "    def state(self, xk, sk):\n",
    "        return xk * self.W[0] + sk * self.W[1]\n",
    "\n",
    "    def forward_states(self, X):\n",
    "        S = np.zeros((X.shape[0], X.shape[1]+1))\n",
    "        for k in range(0, X.shape[1]):\n",
    "            next_state = self.state(X[:,k], S[:,k])\n",
    "            S[:,k+1] = next_state\n",
    "        return S\n",
    "\n",
    "    def output_gradient(self, guess, real):\n",
    "        return 2 * (guess - real) / no_of_smaples\n",
    "\n",
    "    def backward_gradient(self, X, S, grad_out):\n",
    "        grad_over_time = np.zeros(( X.shape[0], X.shape[1]+1 ))\n",
    "        grad_over_time[:,-1] = grad_out\n",
    "\n",
    "        wx_grad = 0\n",
    "        wr_grad = 0\n",
    "        for k in range(X.shape[1], 0, -1):\n",
    "            wx_grad += np.sum( grad_over_time[:, k] * X[:, k-1] )\n",
    "            wr_grad += np.sum( grad_over_time[:, k] * S[:, k-1] )\n",
    "\n",
    "            grad_over_time[:, k-1] = grad_over_time[:, k] * self.W[1]\n",
    "        return (wx_grad, wr_grad), grad_over_time\n",
    "\n",
    "    def update_rprop(self, X, Y, W_prev_sign, W_delta):\n",
    "        S = self.forward_states(X)\n",
    "        grad_out =  self.output_gradient(S[:, -1], Y)\n",
    "        W_grads, _ = self.backward_gradient(X, S, grad_out)\n",
    "        self.W_sign = np.sign(W_grads)\n",
    "\n",
    "        for i, _ in enumerate(self.W):\n",
    "            if self.W_sign[i] == W_prev_sign[i]:\n",
    "                W_delta[i] *= self.eta_p\n",
    "            else:\n",
    "                W_delta[i] *= self.eta_n\n",
    "        self.W_delta = W_delta\n",
    "\n",
    "    def train(self, X, Y, training_epochs):\n",
    "        for epochs in range(training_epochs):\n",
    "            self.update_rprop(X, Y, self.W_sign, self.W_delta)\n",
    "\n",
    "            for i, _ in enumerate(self.W):\n",
    "                self.W[i] -= self.W_sign[i] * self.W_delta[i]"
   ]
  },
  {
   "cell_type": "code",
   "execution_count": 21,
   "metadata": {},
   "outputs": [],
   "source": [
    "rnn = RNN()\n",
    "rnn.train(trainX, trainY, 20000)"
   ]
  },
  {
   "cell_type": "code",
   "execution_count": 22,
   "metadata": {},
   "outputs": [
    {
     "name": "stdout",
     "output_type": "stream",
     "text": [
      "Weight: \t [1.0000000002263607, 1.9999999999274327]\n",
      "Real: \t\t [ 48. 219. 138.  92. 243.]\n",
      "Predicted: \t [ 48. 219. 138.  92. 243.]\n"
     ]
    }
   ],
   "source": [
    "# predict the model\n",
    "\n",
    "print(\"Weight: \\t\", rnn.W)\n",
    "print(\"Real: \\t\\t\", testY)\n",
    "\n",
    "y = rnn.forward_states(testX)[:, -1]\n",
    "print(\"Predicted: \\t\",y)"
   ]
  }
 ],
 "metadata": {
  "kernelspec": {
   "display_name": "Python 3",
   "language": "python",
   "name": "python3"
  },
  "language_info": {
   "codemirror_mode": {
    "name": "ipython",
    "version": 3
   },
   "file_extension": ".py",
   "mimetype": "text/x-python",
   "name": "python",
   "nbconvert_exporter": "python",
   "pygments_lexer": "ipython3",
   "version": "3.8.5"
  }
 },
 "nbformat": 4,
 "nbformat_minor": 4
}
